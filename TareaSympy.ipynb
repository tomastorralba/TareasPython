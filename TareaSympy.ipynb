{
  "nbformat": 4,
  "nbformat_minor": 0,
  "metadata": {
    "colab": {
      "name": "Untitled4.ipynb",
      "provenance": [],
      "authorship_tag": "ABX9TyMlwtkk3Spby6bFXhJ1+XhI",
      "include_colab_link": true
    },
    "kernelspec": {
      "name": "python3",
      "display_name": "Python 3"
    },
    "language_info": {
      "name": "python"
    }
  },
  "cells": [
    {
      "cell_type": "markdown",
      "metadata": {
        "id": "view-in-github",
        "colab_type": "text"
      },
      "source": [
        "<a href=\"https://colab.research.google.com/github/tomastorralba/TareasPython/blob/main/TareaSympy.ipynb\" target=\"_parent\"><img src=\"https://colab.research.google.com/assets/colab-badge.svg\" alt=\"Open In Colab\"/></a>"
      ]
    },
    {
      "cell_type": "code",
      "metadata": {
        "colab": {
          "base_uri": "https://localhost:8080/"
        },
        "id": "ZZzxoIGH0cj1",
        "outputId": "9f0cae89-0127-472c-c3fa-7b3c5cc17bc5"
      },
      "source": [
        "from sympy import init_session\n",
        "init_session(use_latex=True)"
      ],
      "execution_count": 2,
      "outputs": [
        {
          "output_type": "stream",
          "name": "stdout",
          "text": [
            "IPython console for SymPy 1.7.1 (Python 3.7.11-64-bit) (ground types: python)\n",
            "\n",
            "These commands were executed:\n",
            ">>> from __future__ import division\n",
            ">>> from sympy import *\n",
            ">>> x, y, z, t = symbols('x y z t')\n",
            ">>> k, m, n = symbols('k m n', integer=True)\n",
            ">>> f, g, h = symbols('f g h', cls=Function)\n",
            ">>> init_printing()\n",
            "\n",
            "Documentation can be found at https://docs.sympy.org/1.7.1/\n",
            "\n"
          ]
        }
      ]
    },
    {
      "cell_type": "code",
      "metadata": {
        "colab": {
          "base_uri": "https://localhost:8080/",
          "height": 38
        },
        "id": "DqYNgwrz0vQk",
        "outputId": "c10b0c08-f502-427d-b4dc-d3917550e16e"
      },
      "source": [
        "expresion=2*x*x*x*x+34*x*x*x+23\n",
        "derivada=expresion.diff(x,1)\n",
        "derivada\n"
      ],
      "execution_count": 10,
      "outputs": [
        {
          "output_type": "execute_result",
          "data": {
            "image/png": "[encoded data removed]",
            "text/latex": "$\\displaystyle 8 x^{3} + 102 x^{2}$",
            "text/plain": [
              "   3        2\n",
              "8⋅x  + 102⋅x "
            ]
          },
          "metadata": {},
          "execution_count": 10
        }
      ]
    },
    {
      "cell_type": "code",
      "metadata": {
        "colab": {
          "base_uri": "https://localhost:8080/",
          "height": 52
        },
        "id": "j6KD7jSY2gyO",
        "outputId": "389b8606-306d-4c8d-a815-b17f5cb0a5b4"
      },
      "source": [
        "Derivative(expresion,x,1)"
      ],
      "execution_count": 11,
      "outputs": [
        {
          "output_type": "execute_result",
          "data": {
            "image/png": "[encoded data removed]",
            "text/latex": "$\\displaystyle \\frac{d}{d x} \\left(2 x^{4} + 34 x^{3} + 23\\right)$",
            "text/plain": [
              "d ⎛   4       3     ⎞\n",
              "──⎝2⋅x  + 34⋅x  + 23⎠\n",
              "dx                   "
            ]
          },
          "metadata": {},
          "execution_count": 11
        }
      ]
    },
    {
      "cell_type": "code",
      "metadata": {
        "colab": {
          "base_uri": "https://localhost:8080/",
          "height": 38
        },
        "id": "HMhkcQmG2B9d",
        "outputId": "86ea7787-ad96-4be7-a538-082150f0c20f"
      },
      "source": [
        "expresion1=x*log(x)\n",
        "derivada1=expresion1.diff(x,1)\n",
        "derivada1"
      ],
      "execution_count": 7,
      "outputs": [
        {
          "output_type": "execute_result",
          "data": {
            "image/png": "[encoded data removed]",
            "text/latex": "$\\displaystyle \\log{\\left(x \\right)} + 1$",
            "text/plain": [
              "log(x) + 1"
            ]
          },
          "metadata": {},
          "execution_count": 7
        }
      ]
    },
    {
      "cell_type": "code",
      "metadata": {
        "colab": {
          "base_uri": "https://localhost:8080/",
          "height": 52
        },
        "id": "oyYoI3li2yRP",
        "outputId": "6eb45dbc-8e28-44fe-94cb-bce301bb0c8e"
      },
      "source": [
        "Derivative(expresion1,x,1)"
      ],
      "execution_count": 12,
      "outputs": [
        {
          "output_type": "execute_result",
          "data": {
            "image/png": "[encoded data removed]",
            "text/latex": "$\\displaystyle \\frac{d}{d x} x \\log{\\left(x \\right)}$",
            "text/plain": [
              "d           \n",
              "──(x⋅log(x))\n",
              "dx          "
            ]
          },
          "metadata": {},
          "execution_count": 12
        }
      ]
    },
    {
      "cell_type": "code",
      "metadata": {
        "colab": {
          "base_uri": "https://localhost:8080/",
          "height": 58
        },
        "id": "xjIeK21Z4QWF",
        "outputId": "01205234-4c10-4aea-82cb-f8fb9f0860b3"
      },
      "source": [
        "expresion2=cos((x*x*x*x)/(y+1))\n",
        "expansion=expand(expresion2)\n",
        "expansion"
      ],
      "execution_count": 14,
      "outputs": [
        {
          "output_type": "execute_result",
          "data": {
            "image/png": "[encoded data removed]",
            "text/latex": "$\\displaystyle \\cos{\\left(\\frac{x^{4}}{y + 1} \\right)}$",
            "text/plain": [
              "   ⎛   4 ⎞\n",
              "   ⎜  x  ⎟\n",
              "cos⎜─────⎟\n",
              "   ⎝y + 1⎠"
            ]
          },
          "metadata": {},
          "execution_count": 14
        }
      ]
    },
    {
      "cell_type": "code",
      "metadata": {
        "colab": {
          "base_uri": "https://localhost:8080/",
          "height": 39
        },
        "id": "czEDkPBO4tjX",
        "outputId": "4ce9bce5-e414-4e16-e249-c1a31d79e2df"
      },
      "source": [
        "expresion3=x*x+6*x+9\n",
        "expansion1=factor(expresion3)\n",
        "expansion1"
      ],
      "execution_count": 16,
      "outputs": [
        {
          "output_type": "execute_result",
          "data": {
            "image/png": "[encoded data removed]",
            "text/latex": "$\\displaystyle \\left(x + 3\\right)^{2}$",
            "text/plain": [
              "       2\n",
              "(x + 3) "
            ]
          },
          "metadata": {},
          "execution_count": 16
        }
      ]
    },
    {
      "cell_type": "code",
      "metadata": {
        "colab": {
          "base_uri": "https://localhost:8080/",
          "height": 55
        },
        "id": "eAKEMuyD5E7_",
        "outputId": "c2540018-dc12-4010-8a43-08a8fd5b344c"
      },
      "source": [
        "expresion4=(2*x+1)*(x**2+x+1)\n",
        "integral=Integral(expresion4)\n",
        "integral"
      ],
      "execution_count": 19,
      "outputs": [
        {
          "output_type": "execute_result",
          "data": {
            "image/png": "[encoded data removed]",
            "text/latex": "$\\displaystyle \\int \\left(2 x + 1\\right) \\left(x^{2} + x + 1\\right)\\, dx$",
            "text/plain": [
              "⌠                          \n",
              "⎮           ⎛ 2        ⎞   \n",
              "⎮ (2⋅x + 1)⋅⎝x  + x + 1⎠ dx\n",
              "⌡                          "
            ]
          },
          "metadata": {},
          "execution_count": 19
        }
      ]
    },
    {
      "cell_type": "code",
      "metadata": {
        "colab": {
          "base_uri": "https://localhost:8080/",
          "height": 54
        },
        "id": "sn6GQQ3U5Rqs",
        "outputId": "4bc1d6d9-7db0-454a-938c-a5d55f0ef4d8"
      },
      "source": [
        "integrate(expresion4)"
      ],
      "execution_count": 20,
      "outputs": [
        {
          "output_type": "execute_result",
          "data": {
            "image/png": "[encoded data removed]",
            "text/latex": "$\\displaystyle \\frac{x^{4}}{2} + x^{3} + \\frac{3 x^{2}}{2} + x$",
            "text/plain": [
              " 4           2    \n",
              "x     3   3⋅x     \n",
              "── + x  + ──── + x\n",
              "2          2      "
            ]
          },
          "metadata": {},
          "execution_count": 20
        }
      ]
    },
    {
      "cell_type": "code",
      "metadata": {
        "colab": {
          "base_uri": "https://localhost:8080/",
          "height": 37
        },
        "id": "x3I4HbBC5dYD",
        "outputId": "aa80f870-be84-4104-b76a-8a614cabf618"
      },
      "source": [
        "integrate((2*x+1)*(x**2+x+1),(x,0,1))"
      ],
      "execution_count": 23,
      "outputs": [
        {
          "output_type": "execute_result",
          "data": {
            "image/png": "[encoded data removed]",
            "text/latex": "$\\displaystyle 4$",
            "text/plain": [
              "4"
            ]
          },
          "metadata": {},
          "execution_count": 23
        }
      ]
    },
    {
      "cell_type": "code",
      "metadata": {
        "colab": {
          "base_uri": "https://localhost:8080/",
          "height": 78
        },
        "id": "7mQqq-JH5uPK",
        "outputId": "2dc86d47-943a-432d-f807-eca145997f2d"
      },
      "source": [
        "matriz=Matrix([[12,-34,-45],[-34,-23,100],[45,12,23]])\n",
        "matriz"
      ],
      "execution_count": 24,
      "outputs": [
        {
          "output_type": "execute_result",
          "data": {
            "text/latex": "$\\displaystyle \\left[\\begin{matrix}12 & -34 & -45\\\\-34 & -23 & 100\\\\45 & 12 & 23\\end{matrix}\\right]$",
            "text/plain": [
              "⎡12   -34  -45⎤\n",
              "⎢             ⎥\n",
              "⎢-34  -23  100⎥\n",
              "⎢             ⎥\n",
              "⎣45   12   23 ⎦"
            ]
          },
          "metadata": {},
          "execution_count": 24
        }
      ]
    },
    {
      "cell_type": "code",
      "metadata": {
        "colab": {
          "base_uri": "https://localhost:8080/",
          "height": 78
        },
        "id": "lX_fjN3p53IW",
        "outputId": "5c1a42a9-cd7e-483b-b791-4886c4331788"
      },
      "source": [
        "matriz.inv()\n"
      ],
      "execution_count": 25,
      "outputs": [
        {
          "output_type": "execute_result",
          "data": {
            "text/latex": "$\\displaystyle \\left[\\begin{matrix}\\frac{91}{12029} & - \\frac{242}{228551} & \\frac{4435}{228551}\\\\- \\frac{278}{12029} & - \\frac{2301}{228551} & - \\frac{330}{228551}\\\\- \\frac{33}{12029} & \\frac{1674}{228551} & \\frac{1432}{228551}\\end{matrix}\\right]$",
            "text/plain": [
              "⎡  91   -242     4435 ⎤\n",
              "⎢─────  ──────  ──────⎥\n",
              "⎢12029  228551  228551⎥\n",
              "⎢                     ⎥\n",
              "⎢-278   -2301   -330  ⎥\n",
              "⎢─────  ──────  ──────⎥\n",
              "⎢12029  228551  228551⎥\n",
              "⎢                     ⎥\n",
              "⎢ -33    1674    1432 ⎥\n",
              "⎢─────  ──────  ──────⎥\n",
              "⎣12029  228551  228551⎦"
            ]
          },
          "metadata": {},
          "execution_count": 25
        }
      ]
    },
    {
      "cell_type": "code",
      "metadata": {
        "colab": {
          "base_uri": "https://localhost:8080/",
          "height": 37
        },
        "id": "5B2xRA0B5-0q",
        "outputId": "f6630cfd-0f8c-4b52-bed0-6b4c2ef9442b"
      },
      "source": [
        "matriz.det()"
      ],
      "execution_count": 26,
      "outputs": [
        {
          "output_type": "execute_result",
          "data": {
            "image/png": "[encoded data removed]",
            "text/latex": "$\\displaystyle -228551$",
            "text/plain": [
              "-228551"
            ]
          },
          "metadata": {},
          "execution_count": 26
        }
      ]
    },
    {
      "cell_type": "code",
      "metadata": {
        "colab": {
          "base_uri": "https://localhost:8080/",
          "height": 78
        },
        "id": "lAC8Z-TB6Ccb",
        "outputId": "41026a6c-dea3-4849-f71c-5f399a634385"
      },
      "source": [
        "matriz.T"
      ],
      "execution_count": 27,
      "outputs": [
        {
          "output_type": "execute_result",
          "data": {
            "text/latex": "$\\displaystyle \\left[\\begin{matrix}12 & -34 & 45\\\\-34 & -23 & 12\\\\-45 & 100 & 23\\end{matrix}\\right]$",
            "text/plain": [
              "⎡12   -34  45⎤\n",
              "⎢            ⎥\n",
              "⎢-34  -23  12⎥\n",
              "⎢            ⎥\n",
              "⎣-45  100  23⎦"
            ]
          },
          "metadata": {},
          "execution_count": 27
        }
      ]
    }
  ]
}